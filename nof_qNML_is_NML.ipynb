{
 "cells": [
  {
   "cell_type": "markdown",
   "metadata": {
    "deletable": true,
    "editable": true
   },
   "source": [
    "# Finding out the number of nets for which qNML equals NML"
   ]
  },
  {
   "cell_type": "markdown",
   "metadata": {
    "deletable": true,
    "editable": true
   },
   "source": [
    "These networks are exactly those whose connected components are tournaments. For $n$ nodes, how many such networks are there?"
   ]
  },
  {
   "cell_type": "markdown",
   "metadata": {
    "deletable": true,
    "editable": true
   },
   "source": [
    "We start by generating the integer partitions two find out the different ways n labelled nodes can be partitioned into parts with different size-profiles."
   ]
  },
  {
   "cell_type": "code",
   "execution_count": 1,
   "metadata": {
    "collapsed": false,
    "deletable": true,
    "editable": true
   },
   "outputs": [],
   "source": [
    "from sympy.combinatorics.partitions import IntegerPartition"
   ]
  },
  {
   "cell_type": "code",
   "execution_count": 2,
   "metadata": {
    "collapsed": true,
    "deletable": true,
    "editable": true
   },
   "outputs": [],
   "source": [
    "def gen_iparts(n):\n",
    "    p = IntegerPartition([n])\n",
    "    while len(p.partition)<n:\n",
    "        yield p.partition\n",
    "        p = p.prev_lex()\n",
    "    yield p.partition"
   ]
  },
  {
   "cell_type": "code",
   "execution_count": 3,
   "metadata": {
    "collapsed": false,
    "deletable": true,
    "editable": true
   },
   "outputs": [
    {
     "data": {
      "text/plain": [
       "[[4], [3, 1], [2, 2], [2, 1, 1], [1, 1, 1, 1]]"
      ]
     },
     "execution_count": 3,
     "metadata": {},
     "output_type": "execute_result"
    }
   ],
   "source": [
    "list(gen_iparts(4))"
   ]
  },
  {
   "cell_type": "markdown",
   "metadata": {
    "deletable": true,
    "editable": true
   },
   "source": [
    "Each of these partition size profiles corresponds to many different networks. Or well, the last one corresponds just to an empty network. "
   ]
  },
  {
   "cell_type": "markdown",
   "metadata": {
    "deletable": true,
    "editable": true
   },
   "source": [
    "We count number of networks for one such partition size profile (and then later sum these counts up). \n",
    "For any such partition profile $(p_1,\\ldots,p_k)$ we can (think we can) count the ways we can pick the nodes to different parts and then order each part. This leads to the prodict $n\\choose p_1$$p_1$!${n-p_1}\\choose p_2$$p_2!$${n-p_1-p2}\\choose p_3$$p3!$$\\ldots$${n-\\sum_{j=1}^{k-1}p_j}\\choose p_k$$p_k!$. However, the order of different parts of the same size does not matter, so for all groups of parts having the same size, we have to divide the prodict above by the factorial of the size of such group. Notice also, that the product above telescopes, leaving us a formula for OEIS sequence A000262 as described by Thomas Wieder:"
   ]
  },
  {
   "cell_type": "markdown",
   "metadata": {
    "deletable": true,
    "editable": true
   },
   "source": [
    "With $p(n) =$ the number of integer partitions of $n$, \n",
    "     $d(i)$ = the number of different parts of the $i$-th partition of $n$, $m(i,j) =$ multiplicity of the $j$-th part of the $i$-th partition of $n$,  one has: \n",
    "\n",
    "$$\n",
    "a(n) = \\sum_{i=1}^{p(n)} \\frac{n!}{\\prod_{j=1}^{d(i)} m(i,j)!}.\n",
    "$$"
   ]
  },
  {
   "cell_type": "code",
   "execution_count": 4,
   "metadata": {
    "collapsed": false,
    "deletable": true,
    "editable": true
   },
   "outputs": [],
   "source": [
    "from scipy.special import comb\n",
    "from scipy.misc import factorial\n",
    "import numpy as np\n",
    "from itertools import groupby"
   ]
  },
  {
   "cell_type": "code",
   "execution_count": 5,
   "metadata": {
    "collapsed": false,
    "deletable": true,
    "editable": true
   },
   "outputs": [],
   "source": [
    "def gen_ptcounts(pts):\n",
    "    n = sum(pts)\n",
    "    for p_size, ps in groupby(pts):\n",
    "        ps = list(ps)\n",
    "        terms = [comb(n-i*p,p,exact=True)*factorial(p,exact=True)\n",
    "                 for i,p in enumerate(ps)]\n",
    "        yield np.product(terms,dtype=int)/factorial(len(ps),exact=True)\n",
    "        n -= sum(ps)\n",
    "\n",
    "def nof_nets4pts(pts):\n",
    "        return np.prod(list(gen_ptcounts(pts)),dtype=int)"
   ]
  },
  {
   "cell_type": "code",
   "execution_count": 18,
   "metadata": {
    "collapsed": false,
    "deletable": true,
    "editable": true
   },
   "outputs": [],
   "source": [
    "def nof_NML_nets(n,verbose=False):\n",
    "    iparts = list(gen_iparts(n))\n",
    "    pts_n_trms = [(pts,nof_nets4pts(pts)) for pts in iparts]\n",
    "    if verbose: \n",
    "        for (pts,trm) in pts_n_trms:\n",
    "            print (pts, trm)\n",
    "    return sum(trms for pts,trms in pts_n_trms)"
   ]
  },
  {
   "cell_type": "code",
   "execution_count": 23,
   "metadata": {
    "collapsed": false,
    "deletable": true,
    "editable": true,
    "scrolled": true
   },
   "outputs": [
    {
     "name": "stdout",
     "output_type": "stream",
     "text": [
      "[1] 1\n",
      "1\n",
      "\n",
      "[2] 2\n",
      "[1, 1] 1\n",
      "3\n",
      "\n",
      "[3] 6\n",
      "[2, 1] 6\n",
      "[1, 1, 1] 1\n",
      "13\n",
      "\n",
      "[4] 24\n",
      "[3, 1] 24\n",
      "[2, 2] 12\n",
      "[2, 1, 1] 12\n",
      "[1, 1, 1, 1] 1\n",
      "73\n",
      "\n",
      "[5] 120\n",
      "[4, 1] 120\n",
      "[3, 2] 120\n",
      "[3, 1, 1] 60\n",
      "[2, 2, 1] 60\n",
      "[2, 1, 1, 1] 20\n",
      "[1, 1, 1, 1, 1] 1\n",
      "501\n",
      "\n",
      "[6] 720\n",
      "[5, 1] 720\n",
      "[4, 2] 720\n",
      "[4, 1, 1] 360\n",
      "[3, 3] 360\n",
      "[3, 2, 1] 720\n",
      "[3, 1, 1, 1] 120\n",
      "[2, 2, 2] 120\n",
      "[2, 2, 1, 1] 180\n",
      "[2, 1, 1, 1, 1] 30\n",
      "[1, 1, 1, 1, 1, 1] 1\n",
      "4051\n",
      "\n",
      "[7] 5040\n",
      "[6, 1] 5040\n",
      "[5, 2] 5040\n",
      "[5, 1, 1] 2520\n",
      "[4, 3] 5040\n",
      "[4, 2, 1] 5040\n",
      "[4, 1, 1, 1] 840\n",
      "[3, 3, 1] 2520\n",
      "[3, 2, 2] 2520\n",
      "[3, 2, 1, 1] 2520\n",
      "[3, 1, 1, 1, 1] 210\n",
      "[2, 2, 2, 1] 840\n",
      "[2, 2, 1, 1, 1] 420\n",
      "[2, 1, 1, 1, 1, 1] 42\n",
      "[1, 1, 1, 1, 1, 1, 1] 1\n",
      "37633\n",
      "\n",
      "[8] 40320\n",
      "[7, 1] 40320\n",
      "[6, 2] 40320\n",
      "[6, 1, 1] 20160\n",
      "[5, 3] 40320\n",
      "[5, 2, 1] 40320\n",
      "[5, 1, 1, 1] 6720\n",
      "[4, 4] 20160\n",
      "[4, 3, 1] 40320\n",
      "[4, 2, 2] 20160\n",
      "[4, 2, 1, 1] 20160\n",
      "[4, 1, 1, 1, 1] 1680\n",
      "[3, 3, 2] 20160\n",
      "[3, 3, 1, 1] 10080\n",
      "[3, 2, 2, 1] 20160\n",
      "[3, 2, 1, 1, 1] 6720\n",
      "[3, 1, 1, 1, 1, 1] 336\n",
      "[2, 2, 2, 2] 1680\n",
      "[2, 2, 2, 1, 1] 3360\n",
      "[2, 2, 1, 1, 1, 1] 840\n",
      "[2, 1, 1, 1, 1, 1, 1] 56\n",
      "[1, 1, 1, 1, 1, 1, 1, 1] 1\n",
      "394353\n",
      "\n"
     ]
    }
   ],
   "source": [
    "for n in range(1,9):\n",
    "    print(nof_NML_nets(n,verbose=True))\n",
    "    print()"
   ]
  },
  {
   "cell_type": "code",
   "execution_count": 24,
   "metadata": {
    "collapsed": true,
    "deletable": true,
    "editable": true
   },
   "outputs": [],
   "source": [
    "def b(N):\n",
    "    B=[]\n",
    "    B.append(1)\n",
    "    for n in range(1,N+1):\n",
    "        B.append(0)\n",
    "        for k in range(1,n+1):\n",
    "            B[-1]+=(-1)**(k+1)*comb(n,k)*2**(k*(n-k))*B[n-k]\n",
    "    return B[-1]\n"
   ]
  },
  {
   "cell_type": "code",
   "execution_count": 25,
   "metadata": {
    "collapsed": false
   },
   "outputs": [
    {
     "name": "stdout",
     "output_type": "stream",
     "text": [
      "Populating the interactive namespace from numpy and matplotlib\n"
     ]
    }
   ],
   "source": [
    "%pylab inline"
   ]
  },
  {
   "cell_type": "code",
   "execution_count": 29,
   "metadata": {
    "collapsed": false
   },
   "outputs": [
    {
     "data": {
      "text/plain": [
       "[<matplotlib.lines.Line2D at 0x7f9c1740c320>]"
      ]
     },
     "execution_count": 29,
     "metadata": {},
     "output_type": "execute_result"
    },
    {
     "data": {
      "image/png": "[encoded data removed]",
      "text/plain": [
       "<matplotlib.figure.Figure at 0x7f9c1740c208>"
      ]
     },
     "metadata": {},
     "output_type": "display_data"
    }
   ],
   "source": [
    "ns=range(1,9)\n",
    "plot(ns, [log(nof_NML_nets(n)) for n in ns])\n",
    "plot(ns, [log(b(n)) for n in ns])"
   ]
  },
  {
   "cell_type": "code",
   "execution_count": 30,
   "metadata": {
    "collapsed": false
   },
   "outputs": [
    {
     "data": {
      "text/plain": [
       "[<matplotlib.lines.Line2D at 0x7f9c17317748>]"
      ]
     },
     "execution_count": 30,
     "metadata": {},
     "output_type": "execute_result"
    },
    {
     "data": {
      "image/png": "[encoded data removed]",
      "text/plain": [
       "<matplotlib.figure.Figure at 0x7f9c173366a0>"
      ]
     },
     "metadata": {},
     "output_type": "display_data"
    }
   ],
   "source": [
    "ns=range(1,10)\n",
    "plot(ns, [-log(nof_NML_nets(n)/b(n)) for n in ns])"
   ]
  },
  {
   "cell_type": "code",
   "execution_count": 37,
   "metadata": {
    "collapsed": false
   },
   "outputs": [
    {
     "name": "stdout",
     "output_type": "stream",
     "text": [
      "1\n",
      "3\n",
      "13\n",
      "73\n",
      "501\n",
      "4051\n",
      "37633\n",
      "394353\n",
      "4596553\n",
      "58941091\n",
      "824073141\n",
      "12470162233\n",
      "202976401213\n",
      "3535017524403\n",
      "65573803186921\n",
      "1290434218669921\n",
      "26846616451246353\n",
      "588633468315403843\n"
     ]
    }
   ],
   "source": [
    "for n in range(1,19):\n",
    "    print(nof_NML_nets(n))"
   ]
  }
 ],
 "metadata": {
  "kernelspec": {
   "display_name": "Python 3",
   "language": "python",
   "name": "python3"
  },
  "language_info": {
   "codemirror_mode": {
    "name": "ipython",
    "version": 3
   },
   "file_extension": ".py",
   "mimetype": "text/x-python",
   "name": "python",
   "nbconvert_exporter": "python",
   "pygments_lexer": "ipython3",
   "version": "3.6.1"
  }
 },
 "nbformat": 4,
 "nbformat_minor": 2
}
