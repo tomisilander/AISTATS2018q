{
 "cells": [
  {
   "cell_type": "markdown",
   "metadata": {},
   "source": [
    "# Generate random networks"
   ]
  },
  {
   "cell_type": "code",
   "execution_count": 29,
   "metadata": {
    "collapsed": true
   },
   "outputs": [],
   "source": [
    "import os,random,glob"
   ]
  },
  {
   "cell_type": "code",
   "execution_count": 6,
   "metadata": {
    "collapsed": true
   },
   "outputs": [],
   "source": [
    "def randomG(n,k):\n",
    "    arcs = [(src,dst) for src in range(n) for dst in range(src+1,n)]\n",
    "    return random.sample(arcs,k)"
   ]
  },
  {
   "cell_type": "code",
   "execution_count": 19,
   "metadata": {
    "collapsed": false
   },
   "outputs": [
    {
     "data": {
      "text/plain": [
       "[(1, 4), (1, 2), (0, 4), (0, 3), (2, 3), (0, 2), (2, 4)]"
      ]
     },
     "execution_count": 19,
     "metadata": {},
     "output_type": "execute_result"
    }
   ],
   "source": [
    "randomG(5,7)"
   ]
  },
  {
   "cell_type": "markdown",
   "metadata": {},
   "source": [
    "## Now generate networks and data formats"
   ]
  },
  {
   "cell_type": "code",
   "execution_count": 30,
   "metadata": {
    "collapsed": true
   },
   "outputs": [],
   "source": [
    "netdn = 'artnets'\n",
    "os.makedirs(netdn,exist_ok=True)\n",
    "\n",
    "n=5\n",
    "for g in range(100):\n",
    "    for k in (4,7):\n",
    "        arcs = randomG(n,k)\n",
    "        bnfn = os.path.join(netdn,'k%d_%d.bn'%(k,g))\n",
    "        bnf = open(bnfn,'w')\n",
    "        bnf.write(str(n)+'\\n')\n",
    "        for a in sorted(arcs):\n",
    "            bnf.write('%d %d\\n' % a)\n",
    "        bnf.close()"
   ]
  },
  {
   "cell_type": "code",
   "execution_count": 31,
   "metadata": {
    "collapsed": false
   },
   "outputs": [],
   "source": [
    "datdn = 'artdats'\n",
    "os.makedirs(datdn,exist_ok=True)\n",
    "\n",
    "n=5\n",
    "for g in range(100):\n",
    "    vdfn = os.path.join(datdn,'data_%d.vd'%g)\n",
    "    vdf = open(vdfn,'w')\n",
    "    for i in range(n):\n",
    "        r = random.choice([2,3,4])\n",
    "        vdf.write('V%d\\t'%i + '\\t'.join(map(str,range(r))) + '\\n')\n",
    "    vdf.close()"
   ]
  },
  {
   "cell_type": "markdown",
   "metadata": {},
   "source": [
    "## And then generate parameters"
   ]
  },
  {
   "cell_type": "code",
   "execution_count": 34,
   "metadata": {
    "collapsed": true
   },
   "outputs": [],
   "source": [
    "from numpy.random import dirichlet\n",
    "import numpy as np"
   ]
  },
  {
   "cell_type": "code",
   "execution_count": 33,
   "metadata": {
    "collapsed": false
   },
   "outputs": [
    {
     "data": {
      "text/plain": [
       "array([[ 0.35735531,  0.16236268,  0.480282  ],\n",
       "       [ 0.42560868,  0.19558108,  0.37881025],\n",
       "       [ 0.00525068,  0.20195296,  0.79279636],\n",
       "       [ 0.42933045,  0.55704185,  0.0136277 ]])"
      ]
     },
     "execution_count": 33,
     "metadata": {},
     "output_type": "execute_result"
    }
   ],
   "source": [
    "dirichlet([0.5,0.5,0.5],4)"
   ]
  },
  {
   "cell_type": "code",
   "execution_count": 56,
   "metadata": {
    "collapsed": false
   },
   "outputs": [],
   "source": [
    "def bnfn2parents(bnfn):\n",
    "    bnf = open(bnfn)\n",
    "    n = int(bnf.readline())\n",
    "    parents = [set() for i in range(n)]\n",
    "    for src,dst in (map(int, l.split()) for l in bnf):\n",
    "        parents[dst].add(src)\n",
    "    return parents\n",
    "\n",
    "def parents2pccr(parents,vdfn):\n",
    "    parents = bnfn2parents(bnfn)\n",
    "    rs = [l.count('\\t') for l in open(vdfn)]\n",
    "    for i,r in enumerate(rs):\n",
    "        q = np.product([rs[p] for p in parents[i]],dtype=int)\n",
    "        yield q,r"
   ]
  },
  {
   "cell_type": "code",
   "execution_count": 57,
   "metadata": {
    "collapsed": false,
    "scrolled": true
   },
   "outputs": [
    {
     "name": "stdout",
     "output_type": "stream",
     "text": [
      "[set(), {0}, set(), {0}, {1, 2}]\n",
      "[(1, 2), (2, 4), (2, 2), (16, 2), (4, 4)]\n"
     ]
    }
   ],
   "source": [
    "parents = bnfn2parents('artnets/k4_1.bn')\n",
    "print(parents)\n",
    "print(list(parents2pccr(parents,'artdats/data_1.vd')))"
   ]
  },
  {
   "cell_type": "code",
   "execution_count": 91,
   "metadata": {
    "collapsed": false
   },
   "outputs": [],
   "source": [
    "for bnfn in glob.glob(os.path.join(netdn,'*.bn')):\n",
    "    g = os.path.basename(bnfn)[3:-3]\n",
    "    vdfn=os.path.join(datdn,'data_%s.vd'%g)\n",
    "    parents = bnfn2parents(bnfn)\n",
    "\n",
    "    for paramtype in ('Jeff','BDeu'):\n",
    "        bnmf = open(bnfn[:-3]+'_%s.bnm'%paramtype, 'w')    \n",
    "        for i,(q,r) in enumerate(parents2pccr(parents,vdfn)):\n",
    "            bnmf.write('#@DENSE@\\n')\n",
    "            a = 0.5 if paramtype == 'Jeff' else max(1.0/r/q,0.01)\n",
    "            bnmf.write('\\t'.join(['V%d'%p for p in [i]+list(parents[i])])+'\\n')\n",
    "            #print([a]*r, q)\n",
    "            params = dirichlet([a]*r,q)\n",
    "            for row in params:\n",
    "                bnmf.write('\\t'.join(map(str,row))+'\\n')\n",
    "            bnmf.write('\\n')\n",
    "        bnmf.close()\n",
    "    \n",
    "\n",
    "        "
   ]
  }
 ],
 "metadata": {
  "kernelspec": {
   "display_name": "Python 3",
   "language": "python",
   "name": "python3"
  },
  "language_info": {
   "codemirror_mode": {
    "name": "ipython",
    "version": 3
   },
   "file_extension": ".py",
   "mimetype": "text/x-python",
   "name": "python",
   "nbconvert_exporter": "python",
   "pygments_lexer": "ipython3",
   "version": "3.6.1"
  }
 },
 "nbformat": 4,
 "nbformat_minor": 2
}
